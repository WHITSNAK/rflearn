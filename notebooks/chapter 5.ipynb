{
 "cells": [
  {
   "cell_type": "code",
   "execution_count": 1,
   "metadata": {},
   "outputs": [],
   "source": [
    "%load_ext autoreload\n",
    "%autoreload 2\n",
    "\n",
    "import numpy as np\n",
    "import pandas as pd\n",
    "from tqdm import tqdm\n",
    "from rflearn.env import BlackJack, GridWorld\n",
    "from rflearn.algo import MCIteration"
   ]
  },
  {
   "cell_type": "markdown",
   "metadata": {},
   "source": [
    "# Gridworld MC"
   ]
  },
  {
   "cell_type": "code",
   "execution_count": 28,
   "metadata": {},
   "outputs": [],
   "source": [
    "# _grid = [\n",
    "#     [0, 1, 1, 1, 1, 1, 1],\n",
    "#     [0, 0, 0, 0, 0, 0, 0],\n",
    "#     [1, 1, 1, 1, 1, 1, 0],\n",
    "#     [0, 0, 0, 0, 0, 0, 0],\n",
    "# ]\n",
    "# grid = GridWorld(grid=_grid, terminals=[0])\n",
    "grid = GridWorld(4, 4)\n",
    "value = np.zeros(shape=len(grid.S))\n",
    "policy = np.ones(shape=(len(grid.S), len(grid.A))) / len(grid.A)\n",
    "\n",
    "mc_model = MCIteration(grid, value, policy, qvalue=None)\n",
    "mc_model.fit(gamma=1, epsilon=0.05)"
   ]
  },
  {
   "cell_type": "code",
   "execution_count": 29,
   "metadata": {},
   "outputs": [
    {
     "name": "stderr",
     "output_type": "stream",
     "text": [
      "100%|██████████| 50000/50000 [00:09<00:00, 5493.62it/s]\n"
     ]
    }
   ],
   "source": [
    "mc_model.transform(iter=50000)"
   ]
  },
  {
   "cell_type": "code",
   "execution_count": 30,
   "metadata": {},
   "outputs": [
    {
     "data": {
      "text/plain": [
       "array([[  0.,  -3.,  -5.,  -6.],\n",
       "       [ -1.,  -4.,  -3.,  -3.],\n",
       "       [ -5.,  -5.,  -2.,  -1.],\n",
       "       [-25.,  -3.,  -1.,   0.]])"
      ]
     },
     "execution_count": 30,
     "metadata": {},
     "output_type": "execute_result"
    }
   ],
   "source": [
    "q_vals = pd.Series(mc_model.qvalue).unstack()[grid.A]\n",
    "pi_vals = pd.DataFrame(mc_model.policy, index=mc_model.env.S, columns=mc_model.env.A)\n",
    "v_vals = (q_vals * pi_vals).sum(1)\n",
    "np.round(v_vals.values.reshape(grid.shape))"
   ]
  },
  {
   "cell_type": "code",
   "execution_count": 19,
   "metadata": {},
   "outputs": [
    {
     "data": {
      "text/html": [
       "<div>\n",
       "<style scoped>\n",
       "    .dataframe tbody tr th:only-of-type {\n",
       "        vertical-align: middle;\n",
       "    }\n",
       "\n",
       "    .dataframe tbody tr th {\n",
       "        vertical-align: top;\n",
       "    }\n",
       "\n",
       "    .dataframe thead th {\n",
       "        text-align: right;\n",
       "    }\n",
       "</style>\n",
       "<table border=\"1\" class=\"dataframe\">\n",
       "  <thead>\n",
       "    <tr style=\"text-align: right;\">\n",
       "      <th></th>\n",
       "      <th>up</th>\n",
       "      <th>down</th>\n",
       "      <th>left</th>\n",
       "      <th>right</th>\n",
       "    </tr>\n",
       "  </thead>\n",
       "  <tbody>\n",
       "    <tr>\n",
       "      <th>0</th>\n",
       "      <td>0</td>\n",
       "      <td>0</td>\n",
       "      <td>0</td>\n",
       "      <td>0</td>\n",
       "    </tr>\n",
       "    <tr>\n",
       "      <th>1</th>\n",
       "      <td>122</td>\n",
       "      <td>113</td>\n",
       "      <td>10115</td>\n",
       "      <td>151</td>\n",
       "    </tr>\n",
       "    <tr>\n",
       "      <th>2</th>\n",
       "      <td>144</td>\n",
       "      <td>10430</td>\n",
       "      <td>122</td>\n",
       "      <td>139</td>\n",
       "    </tr>\n",
       "    <tr>\n",
       "      <th>3</th>\n",
       "      <td>69</td>\n",
       "      <td>78</td>\n",
       "      <td>5245</td>\n",
       "      <td>77</td>\n",
       "    </tr>\n",
       "    <tr>\n",
       "      <th>4</th>\n",
       "      <td>5048</td>\n",
       "      <td>141</td>\n",
       "      <td>57</td>\n",
       "      <td>59</td>\n",
       "    </tr>\n",
       "    <tr>\n",
       "      <th>5</th>\n",
       "      <td>5067</td>\n",
       "      <td>75</td>\n",
       "      <td>64</td>\n",
       "      <td>384</td>\n",
       "    </tr>\n",
       "    <tr>\n",
       "      <th>6</th>\n",
       "      <td>186</td>\n",
       "      <td>15685</td>\n",
       "      <td>208</td>\n",
       "      <td>211</td>\n",
       "    </tr>\n",
       "    <tr>\n",
       "      <th>7</th>\n",
       "      <td>80</td>\n",
       "      <td>5407</td>\n",
       "      <td>72</td>\n",
       "      <td>71</td>\n",
       "    </tr>\n",
       "    <tr>\n",
       "      <th>8</th>\n",
       "      <td>135</td>\n",
       "      <td>5336</td>\n",
       "      <td>163</td>\n",
       "      <td>157</td>\n",
       "    </tr>\n",
       "    <tr>\n",
       "      <th>9</th>\n",
       "      <td>68</td>\n",
       "      <td>5664</td>\n",
       "      <td>159</td>\n",
       "      <td>71</td>\n",
       "    </tr>\n",
       "    <tr>\n",
       "      <th>10</th>\n",
       "      <td>258</td>\n",
       "      <td>20885</td>\n",
       "      <td>275</td>\n",
       "      <td>280</td>\n",
       "    </tr>\n",
       "    <tr>\n",
       "      <th>11</th>\n",
       "      <td>137</td>\n",
       "      <td>10654</td>\n",
       "      <td>122</td>\n",
       "      <td>125</td>\n",
       "    </tr>\n",
       "    <tr>\n",
       "      <th>12</th>\n",
       "      <td>130</td>\n",
       "      <td>138</td>\n",
       "      <td>157</td>\n",
       "      <td>10579</td>\n",
       "    </tr>\n",
       "    <tr>\n",
       "      <th>13</th>\n",
       "      <td>261</td>\n",
       "      <td>264</td>\n",
       "      <td>296</td>\n",
       "      <td>21416</td>\n",
       "    </tr>\n",
       "    <tr>\n",
       "      <th>14</th>\n",
       "      <td>616</td>\n",
       "      <td>590</td>\n",
       "      <td>586</td>\n",
       "      <td>46183</td>\n",
       "    </tr>\n",
       "    <tr>\n",
       "      <th>15</th>\n",
       "      <td>0</td>\n",
       "      <td>0</td>\n",
       "      <td>0</td>\n",
       "      <td>0</td>\n",
       "    </tr>\n",
       "  </tbody>\n",
       "</table>\n",
       "</div>"
      ],
      "text/plain": [
       "      up   down   left  right\n",
       "0      0      0      0      0\n",
       "1    122    113  10115    151\n",
       "2    144  10430    122    139\n",
       "3     69     78   5245     77\n",
       "4   5048    141     57     59\n",
       "5   5067     75     64    384\n",
       "6    186  15685    208    211\n",
       "7     80   5407     72     71\n",
       "8    135   5336    163    157\n",
       "9     68   5664    159     71\n",
       "10   258  20885    275    280\n",
       "11   137  10654    122    125\n",
       "12   130    138    157  10579\n",
       "13   261    264    296  21416\n",
       "14   616    590    586  46183\n",
       "15     0      0      0      0"
      ]
     },
     "execution_count": 19,
     "metadata": {},
     "output_type": "execute_result"
    }
   ],
   "source": [
    "pd.Series(mc_model.sa_counts).unstack()[mc_model.env.A]"
   ]
  },
  {
   "cell_type": "markdown",
   "metadata": {},
   "source": [
    "# Blackjack MC"
   ]
  },
  {
   "cell_type": "code",
   "execution_count": 21,
   "metadata": {},
   "outputs": [],
   "source": [
    "game = BlackJack(debug=False)\n",
    "value = np.zeros(shape=len(game.S))\n",
    "policy = []\n",
    "for idx in game.S:\n",
    "    state = game._to_state(idx)\n",
    "    if state[1] >= 20:\n",
    "        policy.append([0, 1])\n",
    "    else:\n",
    "        policy.append([1, 0])\n",
    "policy = np.array(policy).astype('float')\n",
    "\n",
    "mc_model = MCIteration(game, value, policy)\n",
    "mc_model.fit(gamma=1, epsilon=0.0)"
   ]
  },
  {
   "cell_type": "code",
   "execution_count": 22,
   "metadata": {},
   "outputs": [
    {
     "name": "stderr",
     "output_type": "stream",
     "text": [
      "100%|██████████| 50000/50000 [00:06<00:00, 8136.18it/s]\n"
     ]
    }
   ],
   "source": [
    "mc_model.transform(50000)"
   ]
  },
  {
   "cell_type": "code",
   "execution_count": 23,
   "metadata": {},
   "outputs": [],
   "source": [
    "idx = pd.MultiIndex.from_tuples([game._to_state(s) for s in game.S])\n",
    "q_vals = pd.Series(mc_model.qvalue).unstack()[game.A]\n",
    "q_vals.index = idx\n",
    "pi_vals = pd.DataFrame(mc_model.policy, index=mc_model.env.S, columns=mc_model.env.A)\n",
    "pi_vals.index = idx\n",
    "v_vals = (q_vals * pi_vals).sum(1)\n",
    "\n",
    "cnts = pd.Series(mc_model.sa_counts).unstack()[mc_model.env.A]\n",
    "cnts.index = idx"
   ]
  },
  {
   "cell_type": "code",
   "execution_count": 27,
   "metadata": {},
   "outputs": [
    {
     "data": {
      "text/plain": [
       "<AxesSubplot:>"
      ]
     },
     "execution_count": 27,
     "metadata": {},
     "output_type": "execute_result"
    },
    {
     "data": {
      "image/png": "[encoded data removed]",
      "text/plain": [
       "<Figure size 432x288 with 2 Axes>"
      ]
     },
     "metadata": {
      "needs_background": "light"
     },
     "output_type": "display_data"
    }
   ],
   "source": [
    "import seaborn as sns\n",
    "\n",
    "sns.heatmap(np.round(v_vals.unstack(), 2).T[False].T, vmin=-1, vmax=1)"
   ]
  }
 ],
 "metadata": {
  "interpreter": {
   "hash": "953e921e75f8b4c26dea58d124160352c5b7006d92053e7a19fa8af8b405b1de"
  },
  "kernelspec": {
   "display_name": "Python 3.8.12 64-bit ('base': conda)",
   "language": "python",
   "name": "python3"
  },
  "language_info": {
   "codemirror_mode": {
    "name": "ipython",
    "version": 3
   },
   "file_extension": ".py",
   "mimetype": "text/x-python",
   "name": "python",
   "nbconvert_exporter": "python",
   "pygments_lexer": "ipython3",
   "version": "3.8.12"
  },
  "orig_nbformat": 4
 },
 "nbformat": 4,
 "nbformat_minor": 2
}
