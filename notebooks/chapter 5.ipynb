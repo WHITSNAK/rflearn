{
 "cells": [
  {
   "cell_type": "code",
   "execution_count": 21,
   "metadata": {},
   "outputs": [],
   "source": [
    "import numpy as np\n",
    "from itertools import product"
   ]
  },
  {
   "cell_type": "code",
   "execution_count": 25,
   "metadata": {},
   "outputs": [],
   "source": [
    "value = [0,0,0,0]  # (1 x state)\n",
    "episode = {\n",
    "    'state': [0, 1, 2, 3, 0, 1, 2, 3],\n",
    "    'action': [0, 1, 1, 0, 0, 1, 1, 0],\n",
    "    'reward': [1, 0, 0, 1, 1, 0, 0, 1],\n",
    "}\n",
    "\n",
    "def mc_vestimate(value, episode, gamma=1):\n",
    "    rets = {k: [] for k in product(range(4), range(2))}\n",
    "    g = 0\n",
    "    for i in range(len(episode['state'])-1, -1, -1):\n",
    "        state = episode['state'][i]\n",
    "        action = episode['action'][i]\n",
    "        g = gamma * g + episode['reward'][i]\n",
    "        rets[(state, action)].append(g)\n",
    "    return {k: np.mean(v) for k, v in rets.items()} "
   ]
  },
  {
   "cell_type": "code",
   "execution_count": 26,
   "metadata": {},
   "outputs": [
    {
     "name": "stderr",
     "output_type": "stream",
     "text": [
      "C:\\Users\\ztang\\miniconda3\\lib\\site-packages\\numpy\\core\\fromnumeric.py:3440: RuntimeWarning: Mean of empty slice.\n",
      "  return _methods._mean(a, axis=axis, dtype=dtype,\n",
      "C:\\Users\\ztang\\miniconda3\\lib\\site-packages\\numpy\\core\\_methods.py:189: RuntimeWarning: invalid value encountered in double_scalars\n",
      "  ret = ret.dtype.type(ret / rcount)\n"
     ]
    },
    {
     "data": {
      "text/plain": [
       "{(0, 0): 3.0,\n",
       " (0, 1): nan,\n",
       " (1, 0): nan,\n",
       " (1, 1): 2.0,\n",
       " (2, 0): nan,\n",
       " (2, 1): 2.0,\n",
       " (3, 0): 2.0,\n",
       " (3, 1): nan}"
      ]
     },
     "execution_count": 26,
     "metadata": {},
     "output_type": "execute_result"
    }
   ],
   "source": [
    "mc_vestimate(value, episode, gamma=1)"
   ]
  }
 ],
 "metadata": {
  "interpreter": {
   "hash": "953e921e75f8b4c26dea58d124160352c5b7006d92053e7a19fa8af8b405b1de"
  },
  "kernelspec": {
   "display_name": "Python 3.8.12 64-bit ('base': conda)",
   "language": "python",
   "name": "python3"
  },
  "language_info": {
   "codemirror_mode": {
    "name": "ipython",
    "version": 3
   },
   "file_extension": ".py",
   "mimetype": "text/x-python",
   "name": "python",
   "nbconvert_exporter": "python",
   "pygments_lexer": "ipython3",
   "version": "3.8.12"
  },
  "orig_nbformat": 4
 },
 "nbformat": 4,
 "nbformat_minor": 2
}
