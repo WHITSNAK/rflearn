{
 "cells": [
  {
   "cell_type": "code",
   "execution_count": 34,
   "metadata": {},
   "outputs": [
    {
     "name": "stdout",
     "output_type": "stream",
     "text": [
      "The autoreload extension is already loaded. To reload it, use:\n",
      "  %reload_ext autoreload\n"
     ]
    }
   ],
   "source": [
    "%load_ext autoreload\n",
    "%autoreload 2\n",
    "\n",
    "import pandas as pd\n",
    "import numpy as np\n",
    "import seaborn as sns\n",
    "import matplotlib.pyplot as plt\n",
    "from tqdm import tqdm\n",
    "from rflearn.env import GridWorld, WindGridWorld\n",
    "from rflearn.algo import TabularQValue, TabularPolicy, Episode\n",
    "from rflearn.algo.episode import EpisodeStep\n",
    "from rflearn.algo import MCIteration\n",
    "from rflearn.algo.td import TDIteration"
   ]
  },
  {
   "cell_type": "code",
   "execution_count": 247,
   "metadata": {},
   "outputs": [],
   "source": [
    "env = GridWorld(10,10)\n",
    "policy = TabularPolicy(env.S, env.A, epsilon=0.1)\n",
    "qvalue = TabularQValue(env.S, env.A)\n",
    "agent = TDIteration(env, qvalue, policy)\n",
    "agent.fit(gamma=1, alpha=0.5)"
   ]
  },
  {
   "cell_type": "code",
   "execution_count": 248,
   "metadata": {},
   "outputs": [
    {
     "name": "stderr",
     "output_type": "stream",
     "text": [
      "100%|██████████| 500000/500000 [00:27<00:00, 17879.31it/s]\n"
     ]
    }
   ],
   "source": [
    "def get_target(start, end):\n",
    "    chunk = steps[start:min(start+n, end)]\n",
    "    r = [step.r1 for step in chunk]\n",
    "    gamma = agent.gamma ** np.arange(len(r))\n",
    "    ret = np.dot(r, gamma)\n",
    "\n",
    "    _, _, _, s1, is_t = chunk[-1]  # check last step of termination\n",
    "    if not is_t:\n",
    "        a = policy.get_action(s1)\n",
    "        ret += agent.gamma**n * qvalue.get_q(s1, a)\n",
    "        # pi = policy[s1]\n",
    "        # val = qvalue.get_value(s1, pi)\n",
    "        # ret += agent.gamma**n * val\n",
    "    return ret\n",
    "\n",
    "def update_q(start, end):\n",
    "    s0, a0, _, _, _ = steps[start]\n",
    "\n",
    "    q = qvalue.get_q(s0, a0)\n",
    "    target = get_target(start, end)\n",
    "    error = target - q\n",
    "    tderrors.append(error)\n",
    "    new_q = q + agent.alpha * error\n",
    "    qvalue.set_q(s0, a0, new_q)\n",
    "\n",
    "def reset():\n",
    "    # reset all\n",
    "    global steps, t, T, τ\n",
    "    steps = []\n",
    "    t, T = -1, np.inf\n",
    "    τ = t - (n-1)\n",
    "\n",
    "\n",
    "np.random.seed(2304928)\n",
    "nsteps = 500000\n",
    "n = 20\n",
    "\n",
    "pbar = tqdm(total=nsteps)\n",
    "reset()\n",
    "tderrors = []\n",
    "step_gen = agent.get_steps(nsteps)\n",
    "while True:\n",
    "    t += 1\n",
    "    if t < T:  # while not at terminal step\n",
    "        try:\n",
    "            step = next(step_gen)\n",
    "            pbar.update(1)\n",
    "        except StopIteration:\n",
    "            pbar.close()\n",
    "            break\n",
    "\n",
    "        steps.append(step)\n",
    "        if step.is_terminal:\n",
    "            T = t + 1\n",
    "    \n",
    "    τ += 1  # index for the state to be updated\n",
    "    if τ >= 0:\n",
    "        update_q(τ, T)\n",
    "\n",
    "    if τ == T - 1:  # end of episode, and done updates\n",
    "        reset()"
   ]
  },
  {
   "cell_type": "code",
   "execution_count": 254,
   "metadata": {},
   "outputs": [
    {
     "data": {
      "image/png": "[encoded data removed]",
      "text/plain": [
       "<Figure size 432x288 with 1 Axes>"
      ]
     },
     "metadata": {
      "needs_background": "light"
     },
     "output_type": "display_data"
    }
   ],
   "source": [
    "trace = pd.Series(tderrors)\n",
    "trace.ewm(halflife=nsteps/20).mean().plot()\n",
    "# trace.plot(alpha=0.4)\n",
    "plt.show()"
   ]
  },
  {
   "cell_type": "code",
   "execution_count": 252,
   "metadata": {},
   "outputs": [
    {
     "data": {
      "text/plain": [
       "array([[  0.,  -8., -13., -19., -18., -21., -23., -23., -23., -23.],\n",
       "       [ -4.,  -8., -14., -21., -18., -19., -22., -21., -23., -21.],\n",
       "       [-10., -13., -21., -22., -21., -22., -23., -22., -22., -22.],\n",
       "       [-13., -16., -19., -21., -22., -22., -21., -21., -21., -21.],\n",
       "       [-17., -17., -18., -21., -22., -22., -21., -19., -17., -18.],\n",
       "       [-19., -19., -20., -18., -22., -21., -21., -20., -18., -16.],\n",
       "       [-20., -22., -18., -15., -21., -22., -19., -19., -14., -18.],\n",
       "       [-22., -20., -19., -17., -16., -19., -17., -18.,  -9., -16.],\n",
       "       [-22., -21., -18., -16., -17., -15., -16., -12.,  -5.,  -9.],\n",
       "       [-23., -22., -16., -16., -16., -17., -18., -12.,  -5.,   0.]])"
      ]
     },
     "execution_count": 252,
     "metadata": {},
     "output_type": "execute_result"
    }
   ],
   "source": [
    "np.round(qvalue.get_all_values(policy).reshape(env.shape)/10)"
   ]
  }
 ],
 "metadata": {
  "interpreter": {
   "hash": "953e921e75f8b4c26dea58d124160352c5b7006d92053e7a19fa8af8b405b1de"
  },
  "kernelspec": {
   "display_name": "Python 3.8.12 64-bit ('base': conda)",
   "language": "python",
   "name": "python3"
  },
  "language_info": {
   "codemirror_mode": {
    "name": "ipython",
    "version": 3
   },
   "file_extension": ".py",
   "mimetype": "text/x-python",
   "name": "python",
   "nbconvert_exporter": "python",
   "pygments_lexer": "ipython3",
   "version": "3.8.12"
  },
  "orig_nbformat": 4
 },
 "nbformat": 4,
 "nbformat_minor": 2
}
