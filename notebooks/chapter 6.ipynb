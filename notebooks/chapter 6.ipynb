{
 "cells": [
  {
   "cell_type": "code",
   "execution_count": 1,
   "metadata": {},
   "outputs": [],
   "source": [
    "import pandas as pd\n",
    "import numpy as np\n",
    "import matplotlib.pyplot as plt\n",
    "\n",
    "from rflearn.env import WindGridWorld\n",
    "from rflearn.algo import MCEpsilonSoft\n",
    "from rflearn.utils import zero_values, random_policy"
   ]
  },
  {
   "cell_type": "markdown",
   "metadata": {},
   "source": [
    "# Windy Grid World"
   ]
  },
  {
   "cell_type": "code",
   "execution_count": 2,
   "metadata": {},
   "outputs": [],
   "source": [
    "env = WindGridWorld()\n",
    "values = zero_values(env)\n",
    "policy = random_policy(env)\n",
    "\n",
    "agent = MCEpsilonSoft(env, values, policy, pbar_leave=True)\n",
    "agent.fit(gamma=1, epsilon=0.1, lam=0.05, kbatch=30)"
   ]
  },
  {
   "cell_type": "code",
   "execution_count": 3,
   "metadata": {},
   "outputs": [
    {
     "data": {
      "text/plain": [
       "[0, 0, 0, 0, 0, 0, 0, 0, 0, 0]\n",
       "[0, 0, 0, 0, 0, 0, 0, 0, 0, 0]\n",
       "[0, 0, 0, 0, 0, 0, 0, 0, 0, 0]\n",
       "[0, 0, 0, 0, 0, 0, 0, 0, 0, 0]\n",
       "[0, 0, 0, 0, 0, 0, 0, 0, 0, 0]\n",
       "[0, 0, 0, 0, 0, 0, 0, 0, 0, 0]\n",
       "[0, 0, 0, 0, 0, 0, 0, 0, 0, 0]\n",
       "----------\n",
       "[0, 0, 0, 1, 1, 1, 2, 2, 1, 0]"
      ]
     },
     "execution_count": 3,
     "metadata": {},
     "output_type": "execute_result"
    }
   ],
   "source": [
    "env"
   ]
  },
  {
   "cell_type": "code",
   "execution_count": 6,
   "metadata": {},
   "outputs": [
    {
     "name": "stdout",
     "output_type": "stream",
     "text": [
      "[[ 0  1  2  3  4  5  6  7  8  9]\n",
      " [10 11 12 13 14 15 16 17 18 19]\n",
      " [20 21 22 23 24 25 26 27 28 29]\n",
      " [30 31 32 33 34 35 36 37 38 39]\n",
      " [40 41 42 43 44 45 46 47 48 49]\n",
      " [50 51 52 53 54 55 56 57 58 59]\n",
      " [60 61 62 63 64 65 66 67 68 69]]\n"
     ]
    }
   ],
   "source": [
    "print(np.array(env.S).reshape(env.shape))"
   ]
  },
  {
   "cell_type": "code",
   "execution_count": 3,
   "metadata": {},
   "outputs": [
    {
     "name": "stderr",
     "output_type": "stream",
     "text": [
      "100%|██████████| 1800/1800 [00:59<00:00, 30.26it/s]\n"
     ]
    }
   ],
   "source": [
    "agent.transform(1800)"
   ]
  },
  {
   "cell_type": "code",
   "execution_count": 4,
   "metadata": {},
   "outputs": [
    {
     "data": {
      "text/plain": [
       "array([[-12., -13.,  -2.,  -1.,  -1.,  -1.,  -1.,  -1.,  -1.,  -1.],\n",
       "       [-12., -11.,  -2.,  -1.,  -9.,  -1.,  -3.,  -9.,  -1.,  -1.],\n",
       "       [ -3.,  -3.,  -2.,  -2.,  -1.,  -2., -20.,  -4.,  -1.,  -1.],\n",
       "       [ -2.,  -2.,  -2.,  -1.,  -5., -24.,  -5.,   0.,  -1.,  -0.],\n",
       "       [ -2.,  -2.,  -2.,  -2., -32., -20.,   0.,  -3.,  -0.,  -0.],\n",
       "       [ -2.,  -2.,  -6., -27., -19.,   0.,   0.,  -5.,  -5.,  -1.],\n",
       "       [ -4.,  -6., -31., -29.,   0.,   0.,   0.,   0.,  -3.,  -6.]])"
      ]
     },
     "execution_count": 4,
     "metadata": {},
     "output_type": "execute_result"
    }
   ],
   "source": [
    "q_vals = pd.Series(agent.qvalue).unstack()[env.A]\n",
    "pi_vals = pd.DataFrame(agent.policy, index=agent.env.S, columns=agent.env.A)\n",
    "v_vals = (q_vals * pi_vals).sum(1)\n",
    "np.round(v_vals.values.reshape(env.shape)/10)"
   ]
  },
  {
   "cell_type": "code",
   "execution_count": 31,
   "metadata": {},
   "outputs": [],
   "source": [
    "pol = {}\n",
    "for k, v in pd.Series(agent.qvalue).unstack().iterrows():\n",
    "    pol[k] = v.index[v.argmax()][0]"
   ]
  },
  {
   "cell_type": "code",
   "execution_count": 38,
   "metadata": {},
   "outputs": [
    {
     "data": {
      "text/plain": [
       "array([['r', 'd', 'r', 'r', 'r', 'r', 'r', 'r', 'r', 'd'],\n",
       "       ['u', 'r', 'r', 'r', 'r', 'r', 'l', 'r', 'r', 'd'],\n",
       "       ['d', 'd', 'u', 'l', 'r', 'd', 'd', 'r', 'u', 'd'],\n",
       "       ['r', 'r', 'r', 'r', 'r', 'r', 'd', 'd', 'u', 'd'],\n",
       "       ['r', 'u', 'u', 'l', 'l', 'u', 'd', 'd', 'l', 'l'],\n",
       "       ['r', 'u', 'u', 'd', 'u', 'd', 'd', 'u', 'd', 'u'],\n",
       "       ['u', 'l', 'l', 'r', 'd', 'd', 'd', 'd', 'd', 'd']], dtype=object)"
      ]
     },
     "execution_count": 38,
     "metadata": {},
     "output_type": "execute_result"
    }
   ],
   "source": [
    "pd.Series(pol).sort_index().values.reshape(env.shape)"
   ]
  },
  {
   "cell_type": "code",
   "execution_count": 39,
   "metadata": {},
   "outputs": [
    {
     "data": {
      "text/plain": [
       "[0, 0, 0, 1, 1, 1, 2, 2, 1, 0]"
      ]
     },
     "execution_count": 39,
     "metadata": {},
     "output_type": "execute_result"
    }
   ],
   "source": [
    "env.wind"
   ]
  },
  {
   "cell_type": "code",
   "execution_count": 7,
   "metadata": {},
   "outputs": [
    {
     "data": {
      "text/plain": [
       "[-17.833333333333332,\n",
       " -18.133333333333333,\n",
       " -17.466666666666665,\n",
       " -16.9,\n",
       " -16.966666666666665,\n",
       " -16.9,\n",
       " -17.233333333333334,\n",
       " -18.1,\n",
       " -17.7,\n",
       " -17.7]"
      ]
     },
     "execution_count": 7,
     "metadata": {},
     "output_type": "execute_result"
    }
   ],
   "source": [
    "agent.hist['avg_r'][-10:]"
   ]
  },
  {
   "cell_type": "code",
   "execution_count": 41,
   "metadata": {},
   "outputs": [
    {
     "data": {
      "text/plain": [
       "<AxesSubplot:>"
      ]
     },
     "execution_count": 41,
     "metadata": {},
     "output_type": "execute_result"
    },
    {
     "data": {
      "image/png": "[encoded data removed]",
      "text/plain": [
       "<Figure size 432x288 with 1 Axes>"
      ]
     },
     "metadata": {
      "needs_background": "light"
     },
     "output_type": "display_data"
    }
   ],
   "source": [
    "loss = np.log(-1 * pd.Series(agent.hist['avg_r']))\n",
    "\n",
    "loss.ewm(halflife=25).mean().plot()\n",
    "loss.plot(alpha=0.4)\n",
    "# plt.axhline(0, linestyle='--', color='grey',linewidth=1)"
   ]
  }
 ],
 "metadata": {
  "interpreter": {
   "hash": "953e921e75f8b4c26dea58d124160352c5b7006d92053e7a19fa8af8b405b1de"
  },
  "kernelspec": {
   "display_name": "Python 3.8.12 64-bit ('base': conda)",
   "language": "python",
   "name": "python3"
  },
  "language_info": {
   "codemirror_mode": {
    "name": "ipython",
    "version": 3
   },
   "file_extension": ".py",
   "mimetype": "text/x-python",
   "name": "python",
   "nbconvert_exporter": "python",
   "pygments_lexer": "ipython3",
   "version": "3.8.12"
  },
  "orig_nbformat": 4
 },
 "nbformat": 4,
 "nbformat_minor": 2
}
