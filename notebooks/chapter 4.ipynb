{
 "cells": [
  {
   "cell_type": "code",
   "execution_count": 10,
   "metadata": {},
   "outputs": [
    {
     "name": "stdout",
     "output_type": "stream",
     "text": [
      "The autoreload extension is already loaded. To reload it, use:\n",
      "  %reload_ext autoreload\n"
     ]
    }
   ],
   "source": [
    "%load_ext autoreload\n",
    "%autoreload 2\n",
    "\n",
    "import numpy as np\n",
    "import pandas as pd\n",
    "from rflearn.env import GridWorld\n",
    "from rflearn.algo import PolicyIteration, ValueIteration\n",
    "from rflearn.algo import TabularPolicy, TabularQValue"
   ]
  },
  {
   "cell_type": "code",
   "execution_count": 11,
   "metadata": {},
   "outputs": [],
   "source": [
    "# _grid = [\n",
    "#     [0, 1, 1, 1, 1, 1, 1],\n",
    "#     [0, 0, 0, 0, 0, 0, 0],\n",
    "#     [1, 1, 1, 1, 1, 1, 0],\n",
    "#     [0, 0, 0, 0, 0, 0, 0],\n",
    "# ]\n",
    "# grid = GridWorld(grid=_grid, terminals=[0])\n",
    "grid = GridWorld(4, 4)\n",
    "qvalue = TabularQValue(grid.S, grid.A)\n",
    "policy = TabularPolicy(grid.S, grid.A)\n",
    "\n",
    "pi_model = PolicyIteration(env=grid, qvalue=qvalue, policy=policy)\n",
    "vi_model = ValueIteration(env=grid, qvalue=qvalue, policy=policy)"
   ]
  },
  {
   "cell_type": "code",
   "execution_count": 12,
   "metadata": {},
   "outputs": [
    {
     "name": "stdout",
     "output_type": "stream",
     "text": [
      "Value Function\n",
      " [[ 0. -1. -2. -3.]\n",
      " [-1. -2. -3. -2.]\n",
      " [-2. -3. -2. -1.]\n",
      " [-3. -2. -1.  0.]]\n",
      "\n",
      "Policy \n",
      " [[0.25 0.25 0.25 0.25]\n",
      " [0.   0.   1.   0.  ]\n",
      " [0.   0.   1.   0.  ]\n",
      " [0.   0.5  0.5  0.  ]\n",
      " [1.   0.   0.   0.  ]\n",
      " [0.5  0.   0.5  0.  ]\n",
      " [0.25 0.25 0.25 0.25]\n",
      " [0.   1.   0.   0.  ]\n",
      " [1.   0.   0.   0.  ]\n",
      " [0.25 0.25 0.25 0.25]\n",
      " [0.   0.5  0.   0.5 ]\n",
      " [0.   1.   0.   0.  ]\n",
      " [0.5  0.   0.   0.5 ]\n",
      " [0.   0.   0.   1.  ]\n",
      " [0.   0.   0.   1.  ]\n",
      " [0.25 0.25 0.25 0.25]]\n"
     ]
    }
   ],
   "source": [
    "pi_model.fit(gamma=1, theta=0.001)\n",
    "pi_model.transform()\n",
    "\n",
    "print('Value Function\\n', pi_model.get_all_values().reshape(grid.shape))\n",
    "print('\\nPolicy \\n', pi_model.policy.to_numpy())"
   ]
  },
  {
   "cell_type": "code",
   "execution_count": 13,
   "metadata": {},
   "outputs": [
    {
     "name": "stdout",
     "output_type": "stream",
     "text": [
      "Value Function\n",
      " [[ 0. -1. -2. -3.]\n",
      " [-1. -2. -3. -2.]\n",
      " [-2. -3. -2. -1.]\n",
      " [-3. -2. -1.  0.]]\n",
      "\n",
      "Policy \n",
      " [[0.25 0.25 0.25 0.25]\n",
      " [0.   0.   1.   0.  ]\n",
      " [0.   0.   1.   0.  ]\n",
      " [0.   0.5  0.5  0.  ]\n",
      " [1.   0.   0.   0.  ]\n",
      " [0.5  0.   0.5  0.  ]\n",
      " [0.25 0.25 0.25 0.25]\n",
      " [0.   1.   0.   0.  ]\n",
      " [1.   0.   0.   0.  ]\n",
      " [0.25 0.25 0.25 0.25]\n",
      " [0.   0.5  0.   0.5 ]\n",
      " [0.   1.   0.   0.  ]\n",
      " [0.5  0.   0.   0.5 ]\n",
      " [0.   0.   0.   1.  ]\n",
      " [0.   0.   0.   1.  ]\n",
      " [0.25 0.25 0.25 0.25]]\n"
     ]
    }
   ],
   "source": [
    "vi_model.fit(gamma=1, theta=0.001)\n",
    "vi_model.transform()\n",
    "\n",
    "print('Value Function\\n', vi_model.get_all_values().reshape(grid.shape))\n",
    "print('\\nPolicy \\n', vi_model.policy.to_numpy())"
   ]
  }
 ],
 "metadata": {
  "interpreter": {
   "hash": "953e921e75f8b4c26dea58d124160352c5b7006d92053e7a19fa8af8b405b1de"
  },
  "kernelspec": {
   "display_name": "Python 3.8.12 64-bit ('base': conda)",
   "language": "python",
   "name": "python3"
  },
  "language_info": {
   "codemirror_mode": {
    "name": "ipython",
    "version": 3
   },
   "file_extension": ".py",
   "mimetype": "text/x-python",
   "name": "python",
   "nbconvert_exporter": "python",
   "pygments_lexer": "ipython3",
   "version": "3.8.12"
  },
  "orig_nbformat": 4
 },
 "nbformat": 4,
 "nbformat_minor": 2
}
