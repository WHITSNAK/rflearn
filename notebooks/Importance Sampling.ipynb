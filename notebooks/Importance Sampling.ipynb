{
 "cells": [
  {
   "cell_type": "code",
   "execution_count": 1,
   "metadata": {},
   "outputs": [],
   "source": [
    "%load_ext autoreload\n",
    "%autoreload 2\n",
    "\n",
    "import pandas as pd\n",
    "import numpy as np\n",
    "import seaborn as sns\n",
    "import matplotlib.pyplot as plt\n",
    "from tqdm import tqdm\n",
    "from rflearn.env import GridWorld\n",
    "from rflearn.algo import TabularQValue, TabularPolicy, Episode\n",
    "from rflearn.algo.episode import EpisodeStep\n",
    "from rflearn.algo import MCIteration"
   ]
  },
  {
   "cell_type": "code",
   "execution_count": 2,
   "metadata": {},
   "outputs": [],
   "source": [
    "env = GridWorld(4, 4)\n",
    "tpolicy = TabularPolicy(env.S, env.A, epsilon=0)\n",
    "bpolicy = TabularPolicy(env.S, env.A, epsilon=0.2)\n",
    "qvalue = TabularQValue(env.S, env.A)\n",
    "agent = MCIteration(env, qvalue, bpolicy)"
   ]
  },
  {
   "cell_type": "code",
   "execution_count": 3,
   "metadata": {},
   "outputs": [
    {
     "name": "stderr",
     "output_type": "stream",
     "text": [
      "100%|██████████| 1000/1000 [00:19<00:00, 52.37it/s]\n"
     ]
    }
   ],
   "source": [
    "agent.fit(gamma=1, alpha=0.1)\n",
    "\n",
    "iter = 1000\n",
    "kbatch = 30\n",
    "for _ in tqdm(range(iter)):\n",
    "    eps = agent.get_episodes(kbatch)\n",
    "    updated = agent.evaluate_policy(eps)\n",
    "    agent.policy = tpolicy\n",
    "    agent.improve_policy(updated)\n",
    "    agent.policy = bpolicy"
   ]
  },
  {
   "cell_type": "code",
   "execution_count": 4,
   "metadata": {},
   "outputs": [
    {
     "data": {
      "text/plain": [
       "<AxesSubplot:>"
      ]
     },
     "execution_count": 4,
     "metadata": {},
     "output_type": "execute_result"
    },
    {
     "data": {
      "image/png": "[encoded data removed]",
      "text/plain": [
       "<Figure size 432x288 with 2 Axes>"
      ]
     },
     "metadata": {
      "needs_background": "light"
     },
     "output_type": "display_data"
    }
   ],
   "source": [
    "sns.heatmap(qvalue.get_all_values(tpolicy).reshape(env.shape))"
   ]
  },
  {
   "cell_type": "code",
   "execution_count": 9,
   "metadata": {},
   "outputs": [],
   "source": [
    "ep = eps[0]"
   ]
  },
  {
   "cell_type": "code",
   "execution_count": 20,
   "metadata": {},
   "outputs": [],
   "source": [
    "data = []\n",
    "for step in ep:\n",
    "    s0, a0, r1, s1, is_t = step\n",
    "    tp = tpolicy[s0][tpolicy.get_aidx(a0)]\n",
    "    bp = bpolicy[s0][bpolicy.get_aidx(a0)]\n",
    "    rho = tp / bp\n",
    "    data.append((tp, bp, rho))"
   ]
  },
  {
   "cell_type": "code",
   "execution_count": 28,
   "metadata": {},
   "outputs": [
    {
     "data": {
      "text/plain": [
       "[(0.0, 0.25, 0.0),\n",
       " (0.0, 0.25, 0.0),\n",
       " (0.0, 0.25, 0.0),\n",
       " (0.0, 0.25, 0.0),\n",
       " (0.0, 0.25, 0.0),\n",
       " (0.0, 0.25, 0.0),\n",
       " (1.0, 0.25, 4.0),\n",
       " (0.0, 0.25, 0.0),\n",
       " (0.0, 0.25, 0.0),\n",
       " (1.0, 0.25, 4.0),\n",
       " (0.0, 0.25, 0.0),\n",
       " (0.0, 0.25, 0.0),\n",
       " (0.0, 0.25, 0.0),\n",
       " (0.0, 0.25, 0.0),\n",
       " (0.0, 0.25, 0.0),\n",
       " (1.0, 0.25, 4.0),\n",
       " (1.0, 0.25, 4.0),\n",
       " (0.0, 0.25, 0.0),\n",
       " (1.0, 0.25, 4.0),\n",
       " (1.0, 0.25, 4.0)]"
      ]
     },
     "execution_count": 28,
     "metadata": {},
     "output_type": "execute_result"
    }
   ],
   "source": [
    "tpolicy.is_trace(ep, bpolicy)"
   ]
  },
  {
   "cell_type": "code",
   "execution_count": 27,
   "metadata": {},
   "outputs": [
    {
     "data": {
      "text/plain": [
       "[(0.0, 0.25, 0.0),\n",
       " (0.0, 0.25, 0.0),\n",
       " (0.0, 0.25, 0.0),\n",
       " (0.0, 0.25, 0.0),\n",
       " (0.0, 0.25, 0.0),\n",
       " (0.0, 0.25, 0.0),\n",
       " (1.0, 0.25, 4.0),\n",
       " (0.0, 0.25, 0.0),\n",
       " (0.0, 0.25, 0.0),\n",
       " (1.0, 0.25, 4.0),\n",
       " (0.0, 0.25, 0.0),\n",
       " (0.0, 0.25, 0.0),\n",
       " (0.0, 0.25, 0.0),\n",
       " (0.0, 0.25, 0.0),\n",
       " (0.0, 0.25, 0.0),\n",
       " (1.0, 0.25, 4.0),\n",
       " (1.0, 0.25, 4.0),\n",
       " (0.0, 0.25, 0.0),\n",
       " (1.0, 0.25, 4.0),\n",
       " (1.0, 0.25, 4.0)]"
      ]
     },
     "execution_count": 27,
     "metadata": {},
     "output_type": "execute_result"
    }
   ],
   "source": [
    "data"
   ]
  },
  {
   "cell_type": "code",
   "execution_count": 22,
   "metadata": {},
   "outputs": [
    {
     "data": {
      "text/plain": [
       "Episode<n:20>\n",
       "    0: EpisodeStep(s0=13, a0='left', r1=-1, s1=12, is_terminal=False)\n",
       "    1: EpisodeStep(s0=12, a0='down', r1=-1, s1=12, is_terminal=False)\n",
       "    2: EpisodeStep(s0=12, a0='right', r1=-1, s1=13, is_terminal=False)\n",
       "    3: EpisodeStep(s0=13, a0='down', r1=-1, s1=13, is_terminal=False)\n",
       "    4: EpisodeStep(s0=13, a0='left', r1=-1, s1=12, is_terminal=False)\n",
       "    5: EpisodeStep(s0=12, a0='down', r1=-1, s1=12, is_terminal=False)\n",
       "    6: EpisodeStep(s0=12, a0='up', r1=-1, s1=8, is_terminal=False)\n",
       "    7: EpisodeStep(s0=8, a0='down', r1=-1, s1=12, is_terminal=False)\n",
       "    8: EpisodeStep(s0=12, a0='left', r1=-1, s1=12, is_terminal=False)\n",
       "    9: EpisodeStep(s0=12, a0='up', r1=-1, s1=8, is_terminal=False)\n",
       "    10: EpisodeStep(s0=8, a0='left', r1=-1, s1=8, is_terminal=False)\n",
       "    11: EpisodeStep(s0=8, a0='left', r1=-1, s1=8, is_terminal=False)\n",
       "    12: EpisodeStep(s0=8, a0='down', r1=-1, s1=12, is_terminal=False)\n",
       "    13: EpisodeStep(s0=12, a0='down', r1=-1, s1=12, is_terminal=False)\n",
       "    14: EpisodeStep(s0=12, a0='left', r1=-1, s1=12, is_terminal=False)\n",
       "    15: EpisodeStep(s0=12, a0='up', r1=-1, s1=8, is_terminal=False)\n",
       "    16: EpisodeStep(s0=8, a0='up', r1=-1, s1=4, is_terminal=False)\n",
       "    17: EpisodeStep(s0=4, a0='right', r1=-1, s1=5, is_terminal=False)\n",
       "    18: EpisodeStep(s0=5, a0='left', r1=-1, s1=4, is_terminal=False)\n",
       "    19: EpisodeStep(s0=4, a0='up', r1=-1, s1=0, is_terminal=True)"
      ]
     },
     "execution_count": 22,
     "metadata": {},
     "output_type": "execute_result"
    }
   ],
   "source": [
    "ep"
   ]
  }
 ],
 "metadata": {
  "interpreter": {
   "hash": "953e921e75f8b4c26dea58d124160352c5b7006d92053e7a19fa8af8b405b1de"
  },
  "kernelspec": {
   "display_name": "Python 3.8.12 64-bit ('base': conda)",
   "language": "python",
   "name": "python3"
  },
  "language_info": {
   "codemirror_mode": {
    "name": "ipython",
    "version": 3
   },
   "file_extension": ".py",
   "mimetype": "text/x-python",
   "name": "python",
   "nbconvert_exporter": "python",
   "pygments_lexer": "ipython3",
   "version": "3.8.12"
  },
  "orig_nbformat": 4
 },
 "nbformat": 4,
 "nbformat_minor": 2
}
